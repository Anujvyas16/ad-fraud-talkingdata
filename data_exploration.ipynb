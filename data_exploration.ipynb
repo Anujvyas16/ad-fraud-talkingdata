{
 "cells": [
  {
   "cell_type": "markdown",
   "metadata": {},
   "source": [
    "# Data Exploration\n",
    "\n",
    "Remember the quality of your inputs decide the quality of your output. \n",
    "\n",
    "Univariate Analysis\n",
    "\n",
    "At this stage, we explore variables one by one. Method to perform uni-variate analysis will depend on whether the variable type is categorical or continuous. Let’s look at these methods and statistical measures for categorical and continuous variables individually:\n",
    "\n",
    "Continuous Variables:- In case of continuous variables, we need to understand the central tendency and spread of the variable. These are measured using various statistical metrics visualization methods as shown below:\n",
    "\n",
    "\n",
    "Numerical Features\n",
    "\n",
    "Categorical Features\n",
    "\n",
    "Bi-variate Analysis\n",
    "\n",
    "Bi-variate Analysis finds out the relationship between two variables. Here, we look for association and disassociation between variables at a pre-defined significance level. We can perform bi-variate analysis for any combination of categorical and continuous variables. The combination can be: Categorical & Categorical, Categorical & Continuous and Continuous & Continuous. Different methods are used to tackle these combinations during analysis process.\n",
    "\n",
    "\n",
    "Missing Value Treatment\n",
    "\n",
    " \n",
    "Why missing values treatment is required?\n",
    "\n",
    "Missing data in the training data set can reduce the power / fit of a model or can lead to a biased model because we have not analysed the behavior and relationship with other variables correctly. It can lead to wrong prediction or classification.\n",
    "\n",
    "\n",
    "Imputing missing values\n",
    "\n",
    "Transforming numerical varaibles that seems to be categorical\n",
    "\n",
    "Label econding categorical varaibles\n",
    "\n",
    "\n",
    "Outliers\n",
    "Explore outliers using scatter plot\n",
    "Delete outliers\n",
    "\n",
    "\n",
    "\n",
    "Clusters\n",
    "\n",
    "\n",
    "Correlations\n",
    "Correlation shows how features are correlated with target label\n"
   ]
  },
  {
   "cell_type": "markdown",
   "metadata": {},
   "source": []
  },
  {
   "cell_type": "code",
   "execution_count": 1,
   "metadata": {},
   "outputs": [
    {
     "ename": "SyntaxError",
     "evalue": "invalid syntax (<ipython-input-1-5acb84dbcc2e>, line 1)",
     "output_type": "error",
     "traceback": [
      "\u001b[0;36m  File \u001b[0;32m\"<ipython-input-1-5acb84dbcc2e>\"\u001b[0;36m, line \u001b[0;32m1\u001b[0m\n\u001b[0;31m    Feature Engineering\u001b[0m\n\u001b[0m                      ^\u001b[0m\n\u001b[0;31mSyntaxError\u001b[0m\u001b[0;31m:\u001b[0m invalid syntax\n"
     ]
    }
   ],
   "source": [
    "Feature Engineering\n",
    "\n",
    "\n"
   ]
  },
  {
   "cell_type": "code",
   "execution_count": null,
   "metadata": {},
   "outputs": [],
   "source": [
    "Cross validation strategy\n",
    "\n",
    "Models\n",
    "\n",
    "\n",
    "Enassemble"
   ]
  }
 ],
 "metadata": {
  "kernelspec": {
   "display_name": "Python 3",
   "language": "python",
   "name": "python3"
  },
  "language_info": {
   "codemirror_mode": {
    "name": "ipython",
    "version": 3
   },
   "file_extension": ".py",
   "mimetype": "text/x-python",
   "name": "python",
   "nbconvert_exporter": "python",
   "pygments_lexer": "ipython3",
   "version": "3.6.4"
  }
 },
 "nbformat": 4,
 "nbformat_minor": 2
}
